{
 "cells": [
  {
   "cell_type": "markdown",
   "metadata": {},
   "source": [
    "## (MBTI) Myers-Briggs Personality##\n",
    "\n",
    "**The Myers Briggs Type Indicator (or MBTI for short) is a personality type system that divides everyone into 16 distinct personality types across 4 axis**\n",
    "\n",
    "- Introversion (I) – Extroversion (E)\n",
    "- Intuition (N) – Sensing (S)\n",
    "- Thinking (T) – Feeling (F)\n",
    "- Judging (J) – Perceiving (P)"
   ]
  },
  {
   "cell_type": "code",
   "execution_count": 29,
   "metadata": {},
   "outputs": [],
   "source": [
    "import numpy as np\n",
    "import pandas as pd\n",
    "import seaborn as sns\n",
    "import matplotlib.pyplot as plt\n",
    "import re\n",
    "\n",
    "%matplotlib inline\n",
    "\n",
    "import warnings\n",
    "warnings.filterwarnings(\"ignore\")\n",
    "\n",
    "from nltk.stem import PorterStemmer, WordNetLemmatizer\n",
    "from nltk.corpus import stopwords \n",
    "\n"
   ]
  },
  {
   "cell_type": "code",
   "execution_count": 30,
   "metadata": {},
   "outputs": [],
   "source": [
    "mbti = pd.read_csv('mbti_1.csv', encoding='latin-1')"
   ]
  },
  {
   "cell_type": "code",
   "execution_count": 31,
   "metadata": {},
   "outputs": [
    {
     "name": "stdout",
     "output_type": "stream",
     "text": [
      "<class 'pandas.core.frame.DataFrame'>\n",
      "RangeIndex: 8675 entries, 0 to 8674\n",
      "Data columns (total 2 columns):\n",
      "type     8675 non-null object\n",
      "posts    8675 non-null object\n",
      "dtypes: object(2)\n",
      "memory usage: 135.6+ KB\n"
     ]
    }
   ],
   "source": [
    "mbti.info()"
   ]
  },
  {
   "cell_type": "markdown",
   "metadata": {},
   "source": [
    "**A Sample of Data**"
   ]
  },
  {
   "cell_type": "code",
   "execution_count": 32,
   "metadata": {
    "scrolled": false
   },
   "outputs": [
    {
     "data": {
      "text/html": [
       "<div>\n",
       "<style scoped>\n",
       "    .dataframe tbody tr th:only-of-type {\n",
       "        vertical-align: middle;\n",
       "    }\n",
       "\n",
       "    .dataframe tbody tr th {\n",
       "        vertical-align: top;\n",
       "    }\n",
       "\n",
       "    .dataframe thead th {\n",
       "        text-align: right;\n",
       "    }\n",
       "</style>\n",
       "<table border=\"1\" class=\"dataframe\">\n",
       "  <thead>\n",
       "    <tr style=\"text-align: right;\">\n",
       "      <th></th>\n",
       "      <th>type</th>\n",
       "      <th>posts</th>\n",
       "    </tr>\n",
       "  </thead>\n",
       "  <tbody>\n",
       "    <tr>\n",
       "      <th>0</th>\n",
       "      <td>INFJ</td>\n",
       "      <td>'http://www.youtube.com/watch?v=qsXHcwe3krw|||...</td>\n",
       "    </tr>\n",
       "    <tr>\n",
       "      <th>1</th>\n",
       "      <td>ENTP</td>\n",
       "      <td>'I'm finding the lack of me in these posts ver...</td>\n",
       "    </tr>\n",
       "    <tr>\n",
       "      <th>2</th>\n",
       "      <td>INTP</td>\n",
       "      <td>'Good one  _____   https://www.youtube.com/wat...</td>\n",
       "    </tr>\n",
       "    <tr>\n",
       "      <th>3</th>\n",
       "      <td>INTJ</td>\n",
       "      <td>'Dear INTP,   I enjoyed our conversation the o...</td>\n",
       "    </tr>\n",
       "    <tr>\n",
       "      <th>4</th>\n",
       "      <td>ENTJ</td>\n",
       "      <td>'You're fired.|||That's another silly misconce...</td>\n",
       "    </tr>\n",
       "  </tbody>\n",
       "</table>\n",
       "</div>"
      ],
      "text/plain": [
       "   type                                              posts\n",
       "0  INFJ  'http://www.youtube.com/watch?v=qsXHcwe3krw|||...\n",
       "1  ENTP  'I'm finding the lack of me in these posts ver...\n",
       "2  INTP  'Good one  _____   https://www.youtube.com/wat...\n",
       "3  INTJ  'Dear INTP,   I enjoyed our conversation the o...\n",
       "4  ENTJ  'You're fired.|||That's another silly misconce..."
      ]
     },
     "execution_count": 32,
     "metadata": {},
     "output_type": "execute_result"
    }
   ],
   "source": [
    "mbti.head()"
   ]
  },
  {
   "cell_type": "code",
   "execution_count": 33,
   "metadata": {},
   "outputs": [
    {
     "data": {
      "text/html": [
       "<div>\n",
       "<style scoped>\n",
       "    .dataframe tbody tr th:only-of-type {\n",
       "        vertical-align: middle;\n",
       "    }\n",
       "\n",
       "    .dataframe tbody tr th {\n",
       "        vertical-align: top;\n",
       "    }\n",
       "\n",
       "    .dataframe thead th {\n",
       "        text-align: right;\n",
       "    }\n",
       "</style>\n",
       "<table border=\"1\" class=\"dataframe\">\n",
       "  <thead>\n",
       "    <tr style=\"text-align: right;\">\n",
       "      <th></th>\n",
       "      <th>type</th>\n",
       "      <th>posts</th>\n",
       "    </tr>\n",
       "  </thead>\n",
       "  <tbody>\n",
       "    <tr>\n",
       "      <th>count</th>\n",
       "      <td>8675</td>\n",
       "      <td>8675</td>\n",
       "    </tr>\n",
       "    <tr>\n",
       "      <th>unique</th>\n",
       "      <td>16</td>\n",
       "      <td>8675</td>\n",
       "    </tr>\n",
       "    <tr>\n",
       "      <th>top</th>\n",
       "      <td>INFP</td>\n",
       "      <td>'I second this idea, you could also add sleepi...</td>\n",
       "    </tr>\n",
       "    <tr>\n",
       "      <th>freq</th>\n",
       "      <td>1832</td>\n",
       "      <td>1</td>\n",
       "    </tr>\n",
       "  </tbody>\n",
       "</table>\n",
       "</div>"
      ],
      "text/plain": [
       "        type                                              posts\n",
       "count   8675                                               8675\n",
       "unique    16                                               8675\n",
       "top     INFP  'I second this idea, you could also add sleepi...\n",
       "freq    1832                                                  1"
      ]
     },
     "execution_count": 33,
     "metadata": {},
     "output_type": "execute_result"
    }
   ],
   "source": [
    "mbti.describe()"
   ]
  },
  {
   "cell_type": "markdown",
   "metadata": {},
   "source": [
    "**Next, we want to look at the data of how many MBTI types**"
   ]
  },
  {
   "cell_type": "code",
   "execution_count": 34,
   "metadata": {},
   "outputs": [
    {
     "data": {
      "image/png": "[encoded data removed]",
      "text/plain": [
       "<Figure size 864x288 with 1 Axes>"
      ]
     },
     "metadata": {
      "needs_background": "light"
     },
     "output_type": "display_data"
    }
   ],
   "source": [
    "mbti_types = mbti['type'].value_counts()\n",
    "\n",
    "plt.figure(figsize=(12,4))\n",
    "sns.barplot(mbti_types.index, mbti_types.values, alpha=0.8)\n",
    "plt.ylabel('Number of Occurrences', fontsize=12)\n",
    "plt.xlabel('Types', fontsize=12)\n",
    "plt.show()"
   ]
  },
  {
   "cell_type": "markdown",
   "metadata": {},
   "source": [
    "**Translate the MBTI type into binary values**"
   ]
  },
  {
   "cell_type": "code",
   "execution_count": 35,
   "metadata": {},
   "outputs": [
    {
     "data": {
      "text/html": [
       "<div>\n",
       "<style scoped>\n",
       "    .dataframe tbody tr th:only-of-type {\n",
       "        vertical-align: middle;\n",
       "    }\n",
       "\n",
       "    .dataframe tbody tr th {\n",
       "        vertical-align: top;\n",
       "    }\n",
       "\n",
       "    .dataframe thead th {\n",
       "        text-align: right;\n",
       "    }\n",
       "</style>\n",
       "<table border=\"1\" class=\"dataframe\">\n",
       "  <thead>\n",
       "    <tr style=\"text-align: right;\">\n",
       "      <th></th>\n",
       "      <th>type</th>\n",
       "      <th>posts</th>\n",
       "      <th>IE</th>\n",
       "      <th>NS</th>\n",
       "      <th>TF</th>\n",
       "      <th>JP</th>\n",
       "    </tr>\n",
       "  </thead>\n",
       "  <tbody>\n",
       "    <tr>\n",
       "      <th>0</th>\n",
       "      <td>INFJ</td>\n",
       "      <td>'http://www.youtube.com/watch?v=qsXHcwe3krw|||...</td>\n",
       "      <td>1</td>\n",
       "      <td>1</td>\n",
       "      <td>0</td>\n",
       "      <td>1</td>\n",
       "    </tr>\n",
       "    <tr>\n",
       "      <th>1</th>\n",
       "      <td>ENTP</td>\n",
       "      <td>'I'm finding the lack of me in these posts ver...</td>\n",
       "      <td>0</td>\n",
       "      <td>1</td>\n",
       "      <td>1</td>\n",
       "      <td>0</td>\n",
       "    </tr>\n",
       "    <tr>\n",
       "      <th>2</th>\n",
       "      <td>INTP</td>\n",
       "      <td>'Good one  _____   https://www.youtube.com/wat...</td>\n",
       "      <td>1</td>\n",
       "      <td>1</td>\n",
       "      <td>1</td>\n",
       "      <td>0</td>\n",
       "    </tr>\n",
       "    <tr>\n",
       "      <th>3</th>\n",
       "      <td>INTJ</td>\n",
       "      <td>'Dear INTP,   I enjoyed our conversation the o...</td>\n",
       "      <td>1</td>\n",
       "      <td>1</td>\n",
       "      <td>1</td>\n",
       "      <td>1</td>\n",
       "    </tr>\n",
       "    <tr>\n",
       "      <th>4</th>\n",
       "      <td>ENTJ</td>\n",
       "      <td>'You're fired.|||That's another silly misconce...</td>\n",
       "      <td>0</td>\n",
       "      <td>1</td>\n",
       "      <td>1</td>\n",
       "      <td>1</td>\n",
       "    </tr>\n",
       "  </tbody>\n",
       "</table>\n",
       "</div>"
      ],
      "text/plain": [
       "   type                                              posts  IE  NS  TF  JP\n",
       "0  INFJ  'http://www.youtube.com/watch?v=qsXHcwe3krw|||...   1   1   0   1\n",
       "1  ENTP  'I'm finding the lack of me in these posts ver...   0   1   1   0\n",
       "2  INTP  'Good one  _____   https://www.youtube.com/wat...   1   1   1   0\n",
       "3  INTJ  'Dear INTP,   I enjoyed our conversation the o...   1   1   1   1\n",
       "4  ENTJ  'You're fired.|||That's another silly misconce...   0   1   1   1"
      ]
     },
     "execution_count": 35,
     "metadata": {},
     "output_type": "execute_result"
    }
   ],
   "source": [
    "def get_types(row):\n",
    "    t=row['type']\n",
    "\n",
    "    I = 0; N = 0\n",
    "    T = 0; J = 0\n",
    "    \n",
    "    if t[0] == 'I': I = 1\n",
    "    elif t[0] == 'E': I = 0\n",
    "    else: print('I-E incorrect')\n",
    "        \n",
    "    if t[1] == 'N': N = 1\n",
    "    elif t[1] == 'S': N = 0\n",
    "    else: print('N-S incorrect')\n",
    "        \n",
    "    if t[2] == 'T': T = 1\n",
    "    elif t[2] == 'F': T = 0\n",
    "    else: print('T-F incorrect')\n",
    "        \n",
    "    if t[3] == 'J': J = 1\n",
    "    elif t[3] == 'P': J = 0\n",
    "    else: print('J-P incorrect')\n",
    "    return pd.Series( {'IE':I, 'NS':N , 'TF': T, 'JP': J }) \n",
    "\n",
    "mbti = mbti.join(mbti.apply (lambda row: get_types (row),axis=1))\n",
    "mbti.head(5)"
   ]
  },
  {
   "cell_type": "code",
   "execution_count": 36,
   "metadata": {},
   "outputs": [
    {
     "data": {
      "image/png": "[encoded data removed]",
      "text/plain": [
       "<Figure size 432x288 with 1 Axes>"
      ]
     },
     "metadata": {
      "needs_background": "light"
     },
     "output_type": "display_data"
    }
   ],
   "source": [
    "N = 4\n",
    "but = (mbti['IE'].value_counts()[1], mbti['NS'].value_counts()[1], mbti['TF'].value_counts()[1], mbti['JP'].value_counts()[1])\n",
    "top = (mbti['IE'].value_counts()[0], mbti['NS'].value_counts()[0], mbti['TF'].value_counts()[0], mbti['JP'].value_counts()[0])\n",
    "\n",
    "ind = np.arange(N)    # the x locations for the groups\n",
    "width = 0.7      # the width of the bars: can also be len(x) sequence\n",
    "\n",
    "p1 = plt.bar(ind, but, width)\n",
    "p2 = plt.bar(ind, top, width, bottom=but)\n",
    "\n",
    "plt.ylabel('Count')\n",
    "plt.title('Distribution accoss types indicators')\n",
    "plt.xticks(ind, ('I/E',  'N/S', 'T/F', 'J/P',))\n",
    "\n",
    "plt.show()"
   ]
  },
  {
   "cell_type": "markdown",
   "metadata": {},
   "source": [
    "**Then, let's clean up the data**"
   ]
  },
  {
   "cell_type": "code",
   "execution_count": 37,
   "metadata": {},
   "outputs": [
    {
     "name": "stdout",
     "output_type": "stream",
     "text": [
      "[nltk_data] Downloading package wordnet to\n",
      "[nltk_data]     /Users/lillianphan/nltk_data...\n",
      "[nltk_data]   Package wordnet is already up-to-date!\n"
     ]
    },
    {
     "data": {
      "text/plain": [
       "True"
      ]
     },
     "execution_count": 37,
     "metadata": {},
     "output_type": "execute_result"
    }
   ],
   "source": [
    "import nltk\n",
    "nltk.download('wordnet')"
   ]
  },
  {
   "cell_type": "code",
   "execution_count": 40,
   "metadata": {},
   "outputs": [],
   "source": [
    "# b_Pers = {'I':0, 'E':1, 'N':0, 'S':1, 'F':0, 'T':1, 'J':0, 'P':1}\n",
    "# b_Pers_list = [{0:'I', 1:'E'}, {0:'N', 1:'S'}, {0:'F', 1:'T'}, {0:'J', 1:'P'}]\n",
    "\n",
    "# def translate_personality(personality):\n",
    "#     # transform mbti to binary vector\n",
    "    \n",
    "#     return [b_Pers[l] for l in personality]\n",
    "\n",
    "# Cache the stop words for speed \n",
    "cachedStopWords = stopwords.words(\"english\")\n",
    "\n",
    "# Lemmatize\n",
    "stemmer = PorterStemmer()\n",
    "lemmatiser = WordNetLemmatizer()\n",
    "\n",
    "def pre_process(posts):\n",
    "    temp = re.sub('http[s]?://(?:[a-zA-Z]|[0-9]|[$-_@.&+]|(?:%[0-9a-fA-F][0-9a-fA-F]))+', ' ', posts)\n",
    "    temp = re.sub(\"[^a-zA-Z]\", \" \", temp)\n",
    "    temp = re.sub(' +', ' ', temp).lower()\n",
    "    temp = \" \".join([lemmatiser.lemmatize(w) for w in temp.split(' ') if w not in cachedStopWords])\n",
    "    \n",
    "    return temp\n",
    "\n",
    "def pre_process_data(data, remove_stop_words=True):\n",
    "\n",
    "#     list_personality = []\n",
    "    list_posts = []\n",
    "    len_data = len(data)\n",
    "    i=0\n",
    "    \n",
    "    for row in data.iterrows():\n",
    "        i+=1\n",
    "        if (i % 500 == 0 or i == 1 or i == len_data):\n",
    "            print(\"%s of %s rows\" % (i, len_data))\n",
    "\n",
    "        ##### Remove and clean comments\n",
    "        posts = row[1].posts\n",
    "        temp = re.sub('http[s]?://(?:[a-zA-Z]|[0-9]|[$-_@.&+]|(?:%[0-9a-fA-F][0-9a-fA-F]))+', ' ', posts)\n",
    "        temp = re.sub(\"[^a-zA-Z]\", \" \", temp)\n",
    "        temp = re.sub(' +', ' ', temp).lower()\n",
    "        if remove_stop_words:\n",
    "            temp = \" \".join([lemmatiser.lemmatize(w) for w in temp.split(' ') if w not in cachedStopWords])\n",
    "        else:\n",
    "            temp = \" \".join([lemmatiser.lemmatize(w) for w in temp.split(' ')])\n",
    "            \n",
    "#         type_labelized = translate_personality(row[1].type)\n",
    "#         list_personality.append(type_labelized)\n",
    "        list_posts.append(temp)\n",
    "\n",
    "    list_posts = np.array(list_posts)\n",
    "\n",
    "    return list_posts"
   ]
  },
  {
   "cell_type": "markdown",
   "metadata": {},
   "source": [
    "**Vectorize with Tfidf**"
   ]
  },
  {
   "cell_type": "code",
   "execution_count": 41,
   "metadata": {},
   "outputs": [
    {
     "ename": "NameError",
     "evalue": "name 'list_posts' is not defined",
     "output_type": "error",
     "traceback": [
      "\u001b[0;31m---------------------------------------------------------------------------\u001b[0m",
      "\u001b[0;31mNameError\u001b[0m                                 Traceback (most recent call last)",
      "\u001b[0;32m<timed exec>\u001b[0m in \u001b[0;36m<module>\u001b[0;34m()\u001b[0m\n",
      "\u001b[0;31mNameError\u001b[0m: name 'list_posts' is not defined"
     ]
    }
   ],
   "source": [
    "%%time\n",
    "\n",
    "from sklearn.feature_extraction.text import TfidfVectorizer\n",
    "from sklearn.feature_extraction.text import CountVectorizer\n",
    "\n",
    "cntizer = CountVectorizer(analyzer=\"word\",   \n",
    "                             max_df=0.7,\n",
    "                             min_df=0.1) \n",
    "X_cnt = cntizer.fit_transform(list_posts)\n",
    "tfidf = TfidfVectorizer(preprocessor=pre_process)\n",
    "X_tfidf = tfidf.fit_transform(X_cnt)\n",
    "X_tfidf.shape"
   ]
  },
  {
   "cell_type": "code",
   "execution_count": 12,
   "metadata": {},
   "outputs": [],
   "source": [
    "# from sklearn.feature_extraction.text import TfidfTransformer\n",
    "# from sklearn.feature_extraction.text import CountVectorizer\n",
    "\n",
    "# vectorizer = CountVectorizer()\n",
    "# bag = vectorizer.fit_transform(mbti_clean)\n",
    "# # print(vectorizer.get_feature_names())\n",
    "# # print(bag.toarray()) \n",
    "# tfidf = TfidfTransformer()\n",
    "# X_tfidf =  tfidf.fit_transform(bag).toarray()\n",
    "\n",
    "\n"
   ]
  },
  {
   "cell_type": "code",
   "execution_count": 13,
   "metadata": {},
   "outputs": [],
   "source": [
    "y = mbti[['type','IE', 'NS', 'TF', 'JP']]\n",
    "X = mbti['posts']"
   ]
  },
  {
   "cell_type": "code",
   "execution_count": 14,
   "metadata": {},
   "outputs": [
    {
     "data": {
      "text/html": [
       "<div>\n",
       "<style scoped>\n",
       "    .dataframe tbody tr th:only-of-type {\n",
       "        vertical-align: middle;\n",
       "    }\n",
       "\n",
       "    .dataframe tbody tr th {\n",
       "        vertical-align: top;\n",
       "    }\n",
       "\n",
       "    .dataframe thead th {\n",
       "        text-align: right;\n",
       "    }\n",
       "</style>\n",
       "<table border=\"1\" class=\"dataframe\">\n",
       "  <thead>\n",
       "    <tr style=\"text-align: right;\">\n",
       "      <th></th>\n",
       "      <th>type</th>\n",
       "      <th>IE</th>\n",
       "      <th>NS</th>\n",
       "      <th>TF</th>\n",
       "      <th>JP</th>\n",
       "    </tr>\n",
       "  </thead>\n",
       "  <tbody>\n",
       "    <tr>\n",
       "      <th>0</th>\n",
       "      <td>INFJ</td>\n",
       "      <td>1</td>\n",
       "      <td>1</td>\n",
       "      <td>0</td>\n",
       "      <td>1</td>\n",
       "    </tr>\n",
       "    <tr>\n",
       "      <th>1</th>\n",
       "      <td>ENTP</td>\n",
       "      <td>0</td>\n",
       "      <td>1</td>\n",
       "      <td>1</td>\n",
       "      <td>0</td>\n",
       "    </tr>\n",
       "    <tr>\n",
       "      <th>2</th>\n",
       "      <td>INTP</td>\n",
       "      <td>1</td>\n",
       "      <td>1</td>\n",
       "      <td>1</td>\n",
       "      <td>0</td>\n",
       "    </tr>\n",
       "    <tr>\n",
       "      <th>3</th>\n",
       "      <td>INTJ</td>\n",
       "      <td>1</td>\n",
       "      <td>1</td>\n",
       "      <td>1</td>\n",
       "      <td>1</td>\n",
       "    </tr>\n",
       "    <tr>\n",
       "      <th>4</th>\n",
       "      <td>ENTJ</td>\n",
       "      <td>0</td>\n",
       "      <td>1</td>\n",
       "      <td>1</td>\n",
       "      <td>1</td>\n",
       "    </tr>\n",
       "  </tbody>\n",
       "</table>\n",
       "</div>"
      ],
      "text/plain": [
       "   type  IE  NS  TF  JP\n",
       "0  INFJ   1   1   0   1\n",
       "1  ENTP   0   1   1   0\n",
       "2  INTP   1   1   1   0\n",
       "3  INTJ   1   1   1   1\n",
       "4  ENTJ   0   1   1   1"
      ]
     },
     "execution_count": 14,
     "metadata": {},
     "output_type": "execute_result"
    }
   ],
   "source": [
    "y.head()"
   ]
  },
  {
   "cell_type": "markdown",
   "metadata": {},
   "source": [
    "# Logistic Regression\n",
    "\n",
    "Then, let's do a train test split, and train our model!"
   ]
  },
  {
   "cell_type": "code",
   "execution_count": 15,
   "metadata": {},
   "outputs": [],
   "source": [
    "from sklearn.model_selection import train_test_split\n",
    "\n",
    "X_train, X_test, y_train, y_test = train_test_split(X, y, test_size=0.2, random_state=101)\n",
    "\n",
    "y_IE_train = y_train['IE']\n",
    "y_NS_train = y_train['NS']\n",
    "y_TF_train = y_train['TF']\n",
    "y_JP_train = y_train['JP']\n",
    "\n",
    "y_IE_test = y_test['IE']\n",
    "y_NS_test = y_test['NS']\n",
    "y_TF_test = y_test['TF']\n",
    "y_JP_test = y_test['JP']\n",
    "\n",
    "y_type_test = y_test['type']"
   ]
  },
  {
   "cell_type": "code",
   "execution_count": 16,
   "metadata": {},
   "outputs": [],
   "source": [
    "def oversamling(data, y):\n",
    "    n1 = len(y[y == 0])\n",
    "    n2 = len(y[y == 1])\n",
    "    temp_data = pd.concat ([y, data],axis = 1)\n",
    "    if n1 > n2:\n",
    "        majority_data = temp_data[y == 0]\n",
    "        minority_data = temp_data[y == 1]\n",
    "    else:\n",
    "        majority_data = temp_data[y == 1]\n",
    "        minority_data = temp_data[y == 0]\n",
    "    over_sample_minority_data = minority_data.sample(len(majority_data), replace = True) # with replacement, since we take a larger sample than population\n",
    "    over_sample_data = pd.concat ([over_sample_minority_data, majority_data], axis = 0)\n",
    "    return over_sample_data.iloc[:,1], over_sample_data.iloc[:,0]"
   ]
  },
  {
   "cell_type": "code",
   "execution_count": 17,
   "metadata": {},
   "outputs": [],
   "source": [
    "X_train_IE, y_train_IE = oversamling(X_train, y_IE_train)\n",
    "X_train_NS, y_train_NS = oversamling(X_train, y_NS_train)\n",
    "X_train_TF, y_train_TF = oversamling(X_train, y_TF_train)\n",
    "X_train_JP, y_train_JP = oversamling(X_train, y_JP_train)"
   ]
  },
  {
   "cell_type": "code",
   "execution_count": 18,
   "metadata": {},
   "outputs": [
    {
     "name": "stdout",
     "output_type": "stream",
     "text": [
      "CPU times: user 2min 27s, sys: 882 ms, total: 2min 28s\n",
      "Wall time: 2min 27s\n"
     ]
    }
   ],
   "source": [
    "%%time\n",
    "from sklearn.linear_model import LogisticRegression\n",
    "from sklearn.pipeline import Pipeline\n",
    "\n",
    "# model_IE = LogisticRegression()\n",
    "# model_NS = LogisticRegression()\n",
    "# model_TF = LogisticRegression()\n",
    "# model_JP = LogisticRegression()\n",
    "\n",
    "model_IE = Pipeline([('vect', tfidf),\n",
    "                ('clf', LogisticRegression())])\n",
    "model_NS = Pipeline([('vect', tfidf),\n",
    "                ('clf', LogisticRegression())])\n",
    "model_TF = Pipeline([('vect', tfidf),\n",
    "                ('clf', LogisticRegression())])\n",
    "model_JP = Pipeline([('vect', tfidf),\n",
    "                ('clf', LogisticRegression())])\n",
    "\n",
    "\n",
    "model_IE.fit(X_train, y_IE_train)\n",
    "model_NS.fit(X_train, y_NS_train)\n",
    "model_TF.fit(X_train, y_TF_train)\n",
    "model_JP.fit(X_train, y_JP_train)"
   ]
  },
  {
   "cell_type": "markdown",
   "metadata": {},
   "source": [
    "## Predictions and Evaluations"
   ]
  },
  {
   "cell_type": "code",
   "execution_count": 19,
   "metadata": {},
   "outputs": [
    {
     "name": "stdout",
     "output_type": "stream",
     "text": [
      "accuracy: 0.8242074927953891\n",
      "confusion matrix:\n",
      " [[ 126  276]\n",
      " [  29 1304]]\n",
      "classification report:\n",
      "              precision    recall  f1-score   support\n",
      "\n",
      "          0       0.81      0.31      0.45       402\n",
      "          1       0.83      0.98      0.90      1333\n",
      "\n",
      "avg / total       0.82      0.82      0.79      1735\n",
      "\n",
      "accuracy: 0.8876080691642652\n",
      "confusion matrix:\n",
      " [[  36  187]\n",
      " [   8 1504]]\n",
      "classification report:\n",
      "              precision    recall  f1-score   support\n",
      "\n",
      "          0       0.82      0.16      0.27       223\n",
      "          1       0.89      0.99      0.94      1512\n",
      "\n",
      "avg / total       0.88      0.89      0.85      1735\n",
      "\n",
      "accuracy: 0.8530259365994236\n",
      "confusion matrix:\n",
      " [[797 114]\n",
      " [141 683]]\n",
      "classification report:\n",
      "              precision    recall  f1-score   support\n",
      "\n",
      "          0       0.85      0.87      0.86       911\n",
      "          1       0.86      0.83      0.84       824\n",
      "\n",
      "avg / total       0.85      0.85      0.85      1735\n",
      "\n",
      "accuracy: 0.4259365994236311\n",
      "confusion matrix:\n",
      " [[112 953]\n",
      " [ 43 627]]\n",
      "classification report:\n",
      "              precision    recall  f1-score   support\n",
      "\n",
      "          0       0.72      0.11      0.18      1065\n",
      "          1       0.40      0.94      0.56       670\n",
      "\n",
      "avg / total       0.60      0.43      0.33      1735\n",
      "\n",
      "CPU times: user 39.3 s, sys: 376 ms, total: 39.7 s\n",
      "Wall time: 40.6 s\n"
     ]
    }
   ],
   "source": [
    "%%time\n",
    "\n",
    "from sklearn.metrics import accuracy_score, confusion_matrix, classification_report\n",
    "\n",
    "def evaluation_report(y_test, predictions):\n",
    "    print('accuracy:',accuracy_score(y_test,predictions))\n",
    "    print('confusion matrix:\\n',confusion_matrix(y_test,predictions))\n",
    "    print('classification report:\\n',classification_report(y_test,predictions))\n",
    "\n",
    "predictions_IE = model_IE.predict(X_test)\n",
    "evaluation_report(y_IE_test, predictions_IE)\n",
    "\n",
    "predictions_NS = model_NS.predict(X_test)\n",
    "evaluation_report(y_NS_test, predictions_NS)\n",
    "\n",
    "predictions_TF = model_TF.predict(X_test)\n",
    "evaluation_report(y_TF_test, predictions_TF)\n",
    "\n",
    "predictions_JP = model_IE.predict(X_test)\n",
    "evaluation_report(y_JP_test, predictions_JP)\n"
   ]
  },
  {
   "cell_type": "code",
   "execution_count": 20,
   "metadata": {},
   "outputs": [],
   "source": [
    "# y_type_test\n",
    "# predictions_IE, predictions_NS, predictions_TF, predictions_JP\n",
    "# predictions = []\n",
    "# for i in range(len(predictions_IE)):\n",
    "#     s = 'I' if predictions_IE[i]==1 else 'E'\n",
    "#     s += 'N' if predictions_NS[i]==1 else 'S'\n",
    "#     s += 'T' if predictions_TF[i]==1 else 'F'\n",
    "#     s += 'J' if predictions_JP[i]==1 else 'P'\n",
    "#     predictions.append(s)\n",
    "    \n",
    "def back_to_type(a1, a2, a3, a4):\n",
    "    s = 'I' if a1==1 else 'E'\n",
    "    s += 'N' if a2==1 else 'S'\n",
    "    s += 'T' if a3==1 else 'F'\n",
    "    s += 'J' if a4==1 else 'P'\n",
    "    return s"
   ]
  },
  {
   "cell_type": "markdown",
   "metadata": {},
   "source": [
    "## Predict MBTI Type of worldwide-known man ..."
   ]
  },
  {
   "cell_type": "code",
   "execution_count": 27,
   "metadata": {},
   "outputs": [
    {
     "name": "stdout",
     "output_type": "stream",
     "text": [
      "[1] [1] [1] [0]\n",
      "INTP\n"
     ]
    }
   ],
   "source": [
    "trump_quotes = [\n",
    "    'Sometimes by losing a battle you find a new way to win the war.',\n",
    "    'No dream is too big. No challenge is too great. Nothing we want for our future is beyond our reach.',\n",
    "    'You have to think anyway, so why not think big?',\n",
    "    'When somebody challenges you, fight back. Be brutal, be tough.',\n",
    "    'It is time to remember that old wisdom our soldiers will never forget: that whether we are black or brown or white, we all bleed the same red blood of patriots, we all enjoy the same glorious freedoms, and we all salute the same great American Flag.',\n",
    "    'When you open your heart to patriotism, there is no room for prejudice. The Bible tells us', \n",
    "    'How good and pleasant it is when Gods people live together in unity.',\n",
    "    'My whole life is about winning. I dont lose often. I almost never lose.',\n",
    "    'I actually dont have a bad hairline.',\n",
    "    'If she gets to pick her judges—nothing you can do, folks. Although, the Second Amendment people. Maybe there is. I don’t know.',\n",
    "    'His wife, she was standing there, she had nothing to say. She probably— maybe she wasn’t allowed to have anything to say.',\n",
    "    'When Iran, when they circle our beautiful destroyers with their little boats, and they make gestures at our people that they shouldn’t be allowed to make, they will be shot out of the water.',\n",
    "    'Russia, if you’re listening, I hope you’re able to find the 30,000 emails that are missing. I think you will probably be rewarded mightily by our press.',\n",
    "    'I will fight for you with every breath in my body – and I will never, ever let you down.'\n",
    "    'It’s a great thing when you can show that you’ve been successful and that you’ve made a lot of money and that you’ve employed a lot of people.'\n",
    "    'We will make America strong again. We will make America proud again. We will make America safe again. And we will make America great again.'\n",
    "    'The problems we face now – poverty and violence at home, war and destruction abroad – will last only as long as we continue relying on the same politicians who created them in the first place'\n",
    "    'Money was never a big motivation for me, except as a way to keep score. The real excitement is playing the game.'\n",
    "    'Sometimes you need conflict in order to come up with a solution. Through weakness, oftentimes, you can’t make the right sort of settlement, so I’m aggressive, but I also get things done, and in the end, everybody likes me.'\n",
    "    'I’ll drink water. Sometimes tomato juice, which I like. Sometimes orange juice, which I like. I’ll drink different things. But the Coke or Pepsi boosts you up a little.'\n",
    "    'Part of being a winner is knowing when enough is enough. Sometimes you have to give up the fight and walk away, and move on to something that’s more productive'\n",
    "    'You know the funny thing, I don’t get along with rich people. I get along with the middle class and the poor people better than I get along with the rich people.'\n",
    "    'In the end, you’re measured not by how much you undertake but by what you finally accomplish'\n",
    "    'A lot of people don’t like to win. They actually don’t know how to win, and they don’t like to win because down deep inside they don’t want to win'\n",
    "    'We need a president with tremendous intelligence, smarts, cunning, strength and stamina.'\n",
    "    'If you get good ratings, they’ll cover you even if you have nothing to say.'\n",
    "    'I try to learn from the past, but I plan for the future by focusing exclusively on the present. That’s where the fun is'\n",
    "    'Everything I do in life is framed through the view of a businessman. That’s my instinct. If I go into a pharmacy to buy shaving cream, then I’m going to look for the best deal on shaving cream'\n",
    "    'I do respect them; I have great respect for women. In fact, one of the reasons ‘The Apprentice’ was such a successful show for so many years, the audience of women was fantastic'\n",
    "    'I own buildings. I’m a builder; I know how to build. Nobody can build like I can build. Nobody. And the builders in New York will tell you that. I build the best product. And my name helps a lot'\n",
    "    'Every day, I wake up determined to deliver a better life for the people all across this nation that have been neglected, ignored, and abandoned. I have visited the laid-off factory workers and the communities crushed by our horrible and unfair trade deals. These are the forgotten men and women of our country.'\n",
    "    'The most basic duty of government is to defend the lives of its own citizens. Any government that fails to do so is a government unworthy to lead.'\n",
    "    'My father was very energetic; my mother was very energetic. He lived to a very old age, and so did my mother. I believe that I just have it from my father, from my parents. They had wonderful energy'\n",
    "    'We can’t let people down when they can’t get any medical care, when they’re sick and don’t have money to go to a doctor. You help them'\n",
    "    'I always look at it that I work with my employees as opposed to them working for me.'\n",
    "    'I’ve become very successful over the years. I think I own among the greatest properties in the world.'\n",
    "    'Do not let anyone tell you it cannot be done. No challenge can match the heart and fight and spirit of America. We will not fail. Our country will thrive and prosper again'\n",
    "    'My father was a successful real estate developer, and he was a very tough man but a good man. My father would always praise me. He always thought I was the smartest person'\n",
    "    'America will start winning again, winning like never before'\n",
    "    'I give to everybody. When they call, I give. And do you know what? When I need something from them two years later, three years later, I call them, they are there for me.'\n",
    "    'I built a great company, one of the – some of the most iconic assets in the world, $10 billion of net worth, more than $10 billion of net worth, and frankly, I had a great time doing it.'\n",
    "    'I’ve met some great people that deal with me in the press. I’ve also met some people that were very dishonorable, frankly.'\n",
    "    'I think I was born with the drive for success because I have a certain gene'\n",
    "    'People are tired of seeing politicians as all talk and no action.'\n",
    "    'Owning a great golf course gives you great power.'\n",
    "    'If you get good ratings, they’ll cover you even if you have nothing to say'\n",
    "    'If people can just pour into the country illegally, you don’t have a country.'\n",
    "    'Anyone who thinks my story is anywhere near over is sadly mistaken'\n",
    "    'You know the funny thing, I don’t get along with rich people. I get along with the middle class and the poor people better than I get along with the rich people.'\n",
    "    'Part of being a winner is knowing when enough is enough. Sometimes you have to give up the fight and walk away, and move on to something that’s more productive'\n",
    "    'I’ll drink water. Sometimes tomato juice, which I like. Sometimes orange juice, which I like. I’ll drink different things. But the Coke or Pepsi boosts you up a little.'\n",
    "    'Sometimes you need conflict in order to come up with a solution. Through weakness, oftentimes, you can’t make the right sort of settlement, so I’m aggressive, but I also get things done, and in the end, everybody likes me'\n",
    "    'What separates the winners from the losers is how a person reacts to each new twist of fate.'\n",
    "    'The problems we face now – poverty and violence at home, war and destruction abroad – will last only as long as we continue relying on the same politicians who created them in the first place.'\n",
    "    'People love me. And you know what, I have been very successful. Everybody loves me'\n",
    "    'We must speak our minds openly, debate our disagreements honestly, but always pursue solidarity.'\n",
    "    'When somebody challenges you, fight back. Be brutal, be tough.'\n",
    "    'I will fight for you with every breath in my body – and I will never, ever let you down'\n",
    "    'I’m competitive, and I love to create challenges for myself. Maybe that’s not always a good thing. It can make life complicated.'\n",
    "    'Without passion you don’t have energy, with out energy you have nothing'\n",
    "]\n",
    "trump_post = ' '.join(trump_quotes)\n",
    "\n",
    "# sample = tfidf.fit_transform([pre_process(trump_post)])\n",
    "print( model_IE.predict([trump_post]), \n",
    "        model_NS.predict([trump_post]),\n",
    "        model_TF.predict([trump_post]),\n",
    "        model_JP.predict([trump_post]))\n",
    "print( back_to_type(model_IE.predict([trump_post]), \n",
    "        model_NS.predict([trump_post]),\n",
    "        model_TF.predict([trump_post]),\n",
    "        model_JP.predict([trump_post])))"
   ]
  },
  {
   "cell_type": "markdown",
   "metadata": {},
   "source": [
    "The correct type is **ESTP**"
   ]
  },
  {
   "cell_type": "markdown",
   "metadata": {},
   "source": [
    "## Reference\n",
    "\n",
    "https://careerassessmentsite.com/celebrity-personality-types/mbti-estp/\n",
    "https://en.wikipedia.org/wiki/Myers%E2%80%93Briggs_Type_Indicator"
   ]
  },
  {
   "cell_type": "markdown",
   "metadata": {},
   "source": []
  }
 ],
 "metadata": {
  "kernelspec": {
   "display_name": "Python 3",
   "language": "python",
   "name": "python3"
  },
  "language_info": {
   "codemirror_mode": {
    "name": "ipython",
    "version": 3
   },
   "file_extension": ".py",
   "mimetype": "text/x-python",
   "name": "python",
   "nbconvert_exporter": "python",
   "pygments_lexer": "ipython3",
   "version": "3.7.0"
  }
 },
 "nbformat": 4,
 "nbformat_minor": 2
}
